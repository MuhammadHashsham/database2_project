{
 "cells": [
  {
   "cell_type": "code",
   "execution_count": 75,
   "id": "95a727cc",
   "metadata": {},
   "outputs": [],
   "source": [
    "# required libraries\n",
    "import pandas as pd\n",
    "import os\n",
    "from pathlib import Path\n",
    "# Load the required libraries\n",
    "from rdflib import Graph, Literal, RDF, URIRef, Namespace\n",
    "# rdflib knows about some namespaces, like FOAF\n",
    "from rdflib.namespace import FOAF, XSD\n",
    "# CHECK DATE \n",
    "import datetime\n",
    "import csv\n",
    "from io import StringIO"
   ]
  },
  {
   "cell_type": "code",
   "execution_count": 87,
   "id": "9e7726d2",
   "metadata": {},
   "outputs": [],
   "source": [
    "# Define namespaces\n",
    "cricket_ns = Namespace(\"http://www.example.com/cricket#\")\n",
    "owl_ns = Namespace(\"http://www.w3.org/2002/07/owl#\")"
   ]
  },
  {
   "cell_type": "code",
   "execution_count": 88,
   "id": "b93d6ba9",
   "metadata": {},
   "outputs": [
    {
     "name": "stdout",
     "output_type": "stream",
     "text": [
      "dict_keys(['team_ranking', 'team', 'matches_played', 'matches_won', 'matches_lost', 'Tie', 'no_result', 'team_points', 'team_net_run_rate'])\n"
     ]
    }
   ],
   "source": [
    "# Initialize RDF graph\n",
    "graph = Graph()\n",
    "\n",
    "# Load data from CSV files\n",
    "deliveries_data = csv.DictReader(open('deliveries.csv'))\n",
    "with open('matches.csv', mode='r', encoding='utf-8-sig') as file:\n",
    "    content = file.read()\n",
    "file_obj = StringIO(content)\n",
    "matches_data = csv.DictReader(file_obj)\n",
    "points_table_data = csv.DictReader(open('points_table.csv'))\n",
    "first_row = next(points_table_data)\n",
    "print(first_row.keys())"
   ]
  },
  {
   "cell_type": "code",
   "execution_count": 89,
   "id": "76a44b98",
   "metadata": {},
   "outputs": [],
   "source": [
    "# Define ontology classes\n",
    "Delivery = cricket_ns.Delivery\n",
    "DotBall = cricket_ns.DotBall\n",
    "Runs = cricket_ns.Runs\n",
    "Wicket = cricket_ns.Wicket\n",
    "Bowled = cricket_ns.Bowled\n",
    "Caught = cricket_ns.Caught\n",
    "LBW = cricket_ns.LBW\n",
    "RunOut = cricket_ns.RunOut\n",
    "Stumped = cricket_ns.Stumped\n",
    "Inning = cricket_ns.Inning\n",
    "Match = cricket_ns.Match\n",
    "Final = cricket_ns.Final\n",
    "GroupMatch = cricket_ns.GroupMatch\n",
    "KnockOutMatch = cricket_ns.KnockOutMatch\n",
    "Person = cricket_ns.Person\n",
    "Player = cricket_ns.Player\n",
    "Batter = cricket_ns.Batter\n",
    "Bowler = cricket_ns.Bowler\n",
    "Umpire = cricket_ns.Umpire\n",
    "PointsTable = cricket_ns.PointsTable\n",
    "Score = cricket_ns.Score\n",
    "Team = cricket_ns.Team\n",
    "Venue = cricket_ns.Venue\n",
    "Stadium = cricket_ns.Stadium\n",
    "\n",
    "# Define ontology object properties\n",
    "bowledBy = cricket_ns.bowledBy\n",
    "deliveryBelongsToMatch = cricket_ns.deliveryBelongsToMatch\n",
    "facedBy = cricket_ns.facedBy\n",
    "hasOfficiated = cricket_ns.hasOfficiated\n",
    "hasTeam = cricket_ns.hasTeam\n",
    "hasWinner = cricket_ns.hasWinner\n",
    "inningPlayedBy = cricket_ns.inningPlayedBy\n",
    "played = cricket_ns.played\n",
    "playedAt = cricket_ns.playedAt\n",
    "\n",
    "# Define ontology data properties\n",
    "batter = cricket_ns.batter\n",
    "bowler = cricket_ns.bowler\n",
    "bowler_name = cricket_ns.bowler_name\n",
    "city_name = cricket_ns.city_name\n",
    "delivery_inning = cricket_ns.delivery_inning\n",
    "delivery_number = cricket_ns.delivery_number\n",
    "batting_team = cricket_ns.batting_team\n",
    "bowling_team = cricket_ns.bowling_team\n",
    "first_inning_batting_team = cricket_ns.first_inning_batting_team\n",
    "first_inning_bowling_team = cricket_ns.first_inning_bowling_team\n",
    "first_inning_score = cricket_ns.first_inning_score\n",
    "first_umpire = cricket_ns.first_umpire\n",
    "inning_number = cricket_ns.inning_number\n",
    "match = cricket_ns.match\n",
    "match_city = cricket_ns.match_city\n",
    "match_date = cricket_ns.match_date\n",
    "match_number = cricket_ns.match_number\n",
    "match_type = cricket_ns.match_type\n",
    "match_umpire1 = cricket_ns.match_umpire1\n",
    "match_umpire2 = cricket_ns.match_umpire2\n",
    "match_venue = cricket_ns.match_venue\n",
    "match_winner = cricket_ns.match_winner\n",
    "matches_lost = cricket_ns.matches_lost\n",
    "matches_played = cricket_ns.matches_played\n",
    "matches_won = cricket_ns.matches_won\n",
    "no_result = cricket_ns.no_result\n",
    "non_striker_name = cricket_ns.non_striker_name\n",
    "player_dismissed = cricket_ns.player_dismissed\n",
    "player_of_the_match = cricket_ns.player_of_the_match\n",
    "runs_scored = cricket_ns.runs_scored\n",
    "second_inning_score = cricket_ns.second_inning_score\n",
    "second_umpire = cricket_ns.second_umpire\n",
    "stadium_name = cricket_ns.stadium_name\n",
    "striker_name = cricket_ns.striker_name\n",
    "team1 = cricket_ns.team1\n",
    "team2 = cricket_ns.team2\n",
    "team_name = cricket_ns.team_name\n",
    "team_net_run_rate = cricket_ns.team_net_run_rate\n",
    "team_points = cricket_ns.team_points\n",
    "team_ranking = cricket_ns.team_ranking\n",
    "third_umpire = cricket_ns.third_umpire\n",
    "wicket_taken = cricket_ns.wicket_taken\n",
    "wicket_type_taken = cricket_ns.wicket_type_taken\n",
    "winner_runs = cricket_ns.winner_runs\n",
    "winner_wickets = cricket_ns.winner_wickets"
   ]
  },
  {
   "cell_type": "code",
   "execution_count": 90,
   "id": "8ac096c2",
   "metadata": {},
   "outputs": [],
   "source": [
    "# Process deliveries data\n",
    "for row in deliveries_data:\n",
    "    # Add triples for deliveries\n",
    "    delivery_uri = cricket_ns[row['ball']]\n",
    "    graph.add((delivery_uri, RDF.type, Delivery))\n",
    "    #graph.add((delivery_uri, deliveryBelongsToMatch, cricket_ns[row['match']]))\n",
    "    graph.add((delivery_uri, bowledBy, cricket_ns[row['bowler_name']]))\n",
    "    graph.add((delivery_uri, facedBy, cricket_ns[row['striker_name']]))\n",
    "    graph.add((delivery_uri, bowling_team, cricket_ns[row['bowling_team']]))\n",
    "    graph.add((delivery_uri, batting_team, cricket_ns[row['batting_team']]))\n",
    "    graph.add((delivery_uri, player_dismissed, cricket_ns[row['player_dismissed']]))\n",
    "    \n",
    "\n",
    "    if row['runs_off_bat'] == '0':\n",
    "        graph.add((delivery_uri, RDF.type, DotBall))\n",
    "    else:\n",
    "        runs_uri = cricket_ns[f\"runs_{row['runs_off_bat']}\"]\n",
    "        graph.add((delivery_uri, RDF.type, Runs))\n",
    "        graph.add((delivery_uri, RDF.type, runs_uri))\n",
    "\n",
    "    if row['wicket_type']:\n",
    "        wicket_uri = cricket_ns[row['wicket_type']]\n",
    "        graph.add((delivery_uri, RDF.type, Wicket))\n",
    "        graph.add((delivery_uri, RDF.type, wicket_uri))"
   ]
  },
  {
   "cell_type": "code",
   "execution_count": 91,
   "id": "9a1ab32e",
   "metadata": {},
   "outputs": [],
   "source": [
    "# Process matches data\n",
    "\n",
    "for row in matches_data:\n",
    "    # Add triples for matches\n",
    "    match_uri = cricket_ns[row['match']]\n",
    "    graph.add((match_uri, RDF.type, Match))\n",
    "    graph.add((match_uri, match_number, cricket_ns[row['match_number']]))\n",
    "    graph.add((match_uri, hasTeam, cricket_ns[row['team1']]))\n",
    "    graph.add((match_uri, hasTeam, cricket_ns[row['team2']]))\n",
    "    graph.add((match_uri, match_date, Literal(row['match_date'], datatype=XSD.datetime)))\n",
    "    graph.add((match_uri, match_venue, cricket_ns[row['match_venue']]))\n",
    "    graph.add((match_uri, match_city, cricket_ns[row['match_city']]))\n",
    "    graph.add((match_uri, first_inning_score, cricket_ns[row['first_inning_score']]))\n",
    "    graph.add((match_uri, second_inning_score, cricket_ns[row['second_inning_score']]))\n",
    "    graph.add((match_uri, match_umpire1, cricket_ns[row['match_umpire1']]))\n",
    "    graph.add((match_uri, match_umpire2, cricket_ns[row['match_umpire2']]))\n",
    "    graph.add((match_uri, player_of_the_match, cricket_ns[row['player_of_the_match']]))\n",
    "    graph.add((match_uri, hasWinner, cricket_ns[row['match_winner']]))\n",
    "    graph.add((match_uri, winner_runs, Literal(row['winner_runs'], datatype=XSD.int)))\n",
    "    graph.add((match_uri, winner_wickets, Literal(row['winner_wickets'], datatype=XSD.int)))\n",
    "    graph.add((match_uri, RDF.type, cricket_ns[row['match_type']]))"
   ]
  },
  {
   "cell_type": "code",
   "execution_count": 92,
   "id": "0ef6fbb0",
   "metadata": {},
   "outputs": [],
   "source": [
    "# Process points table data\n",
    "for row in points_table_data:\n",
    "    # Add triples for points table\n",
    "    team_uri = cricket_ns[row['team']]\n",
    "    graph.add((team_uri, RDF.type, Team))\n",
    "    graph.add((team_uri, matches_played, Literal(row['matches_played'], datatype=XSD.int)))\n",
    "    graph.add((team_uri, matches_won, Literal(row['matches_won'], datatype=XSD.int)))\n",
    "    graph.add((team_uri, matches_lost, Literal(row['matches_lost'], datatype=XSD.int)))\n",
    "    graph.add((team_uri, no_result, Literal(row['no_result'], datatype=XSD.int)))\n",
    "    graph.add((team_uri, team_points, Literal(row['team_points'], datatype=XSD.int)))\n",
    "    graph.add((team_uri, team_net_run_rate, Literal(row['team_net_run_rate'], datatype=XSD.double)))\n",
    "    graph.add((team_uri, team_ranking, Literal(row['team_ranking'], datatype=XSD.int)))"
   ]
  },
  {
   "cell_type": "code",
   "execution_count": 93,
   "id": "fd95289a",
   "metadata": {},
   "outputs": [
    {
     "data": {
      "text/plain": [
       "<Graph identifier=N96c3ef49440a43a5a8097b0d816f78a3 (<class 'rdflib.graph.Graph'>)>"
      ]
     },
     "execution_count": 93,
     "metadata": {},
     "output_type": "execute_result"
    }
   ],
   "source": [
    "graph.serialize(destination='output.ttl', format='turtle')"
   ]
  },
  {
   "cell_type": "code",
   "execution_count": null,
   "id": "164b3426",
   "metadata": {},
   "outputs": [],
   "source": []
  }
 ],
 "metadata": {
  "kernelspec": {
   "display_name": "Python 3 (ipykernel)",
   "language": "python",
   "name": "python3"
  },
  "language_info": {
   "codemirror_mode": {
    "name": "ipython",
    "version": 3
   },
   "file_extension": ".py",
   "mimetype": "text/x-python",
   "name": "python",
   "nbconvert_exporter": "python",
   "pygments_lexer": "ipython3",
   "version": "3.11.4"
  }
 },
 "nbformat": 4,
 "nbformat_minor": 5
}
