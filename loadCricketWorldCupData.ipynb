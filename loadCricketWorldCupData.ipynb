{
 "cells": [
  {
   "cell_type": "code",
   "execution_count": 158,
   "id": "076eaf5b",
   "metadata": {},
   "outputs": [],
   "source": [
    "import pandas as pd\n",
    "from rdflib import Graph, Literal, RDF, URIRef, Namespace\n",
    "from rdflib.namespace import FOAF, XSD\n",
    "import numpy as np\n",
    "\n",
    "# Parameters and URLs\n",
    "matches_url = 'C:/Users/Muhammad Ali/OneDrive/Desktop/DB_2/database2_project/matches.csv'\n",
    "deliveries_url = 'C:/Users/Muhammad Ali/OneDrive/Desktop/DB_2/database2_project/deliveries.csv'\n",
    "points_table_url = 'C:/Users/Muhammad Ali/OneDrive/Desktop/DB_2/database2_project/points_table.csv'\n"
   ]
  },
  {
   "cell_type": "code",
   "execution_count": 159,
   "id": "7cdfc5b6",
   "metadata": {},
   "outputs": [],
   "source": [
    "# Saving folder\n",
    "save_path = 'C:/Users/Muhammad Ali/OneDrive/Desktop/DB_2/'\n",
    "\n",
    "# Construct the cricket ontology namespaces not known by RDFlib\n",
    "CNS = Namespace(\"http://cwnamespace.org/cricketOntology#\")\n",
    "\n",
    "# Load the CSV files in memory (adjust column names accordingly)\n",
    "matches = pd.read_csv(matches_url)\n",
    "deliveries = pd.read_csv(deliveries_url)\n",
    "points_table = pd.read_csv(points_table_url)  # Fixed variable name\n"
   ]
  },
  {
   "cell_type": "code",
   "execution_count": 160,
   "id": "2f22f17f",
   "metadata": {},
   "outputs": [],
   "source": [
    "# Create the graph\n",
    "g = Graph()\n",
    "\n",
    "# Bind the namespaces to a prefix for more readable output\n",
    "g.bind(\"foaf\", FOAF)\n",
    "g.bind(\"xsd\", XSD)\n",
    "g.bind(\"cricket\", CNS)"
   ]
  },
  {
   "cell_type": "code",
   "execution_count": 161,
   "id": "21f918b4",
   "metadata": {},
   "outputs": [],
   "source": [
    "\n",
    "# Players\n",
    "striker_players = deliveries['striker_name'].unique()\n",
    "bowler_players = deliveries['bowler_name'].unique()\n",
    "\n",
    "# Combine unique values\n",
    "players = np.union1d(striker_players, bowler_players)\n",
    "\n",
    "for player_name in players:\n",
    "    Player = URIRef(CNS['Player_' + player_name.replace(' ', '_')])\n",
    "    g.add((Player, RDF.type, CNS.Player))\n",
    "    g.add((Player, CNS['name'], Literal(player_name, datatype=XSD.string)))\n"
   ]
  },
  {
   "cell_type": "code",
   "execution_count": 162,
   "id": "0acee050",
   "metadata": {},
   "outputs": [],
   "source": [
    "# Save players to TTL file\n",
    "with open(save_path + 'players.ttl', 'w') as file:\n",
    "    file.write(g.serialize(format='turtle'))\n",
    "\n",
    "# Create a new graph for matches\n",
    "g_matches = Graph()\n",
    "g_matches.bind(\"foaf\", FOAF)\n",
    "g_matches.bind(\"xsd\", XSD)\n",
    "g_matches.bind(\"cricket\", CNS)"
   ]
  },
  {
   "cell_type": "code",
   "execution_count": 163,
   "id": "3c649a1d",
   "metadata": {},
   "outputs": [],
   "source": [
    "\n",
    "# Matches\n",
    "for index, row in matches.iterrows():\n",
    "    Match = URIRef(CNS['Match_' + str(row['match_number'])])\n",
    "    g_matches.add((Match, RDF.type, CNS.Match))\n",
    "    \n",
    "       \n",
    "    g_matches.add((Match, CNS['match_name'], Literal(row['match'], datatype=XSD.string)))\n",
    "    g_matches.add((Match, CNS['venue'], Literal(row['match_venue'], datatype=XSD.string)))\n",
    "    g_matches.add((Match, CNS['city'], Literal(row['match_city'], datatype=XSD.string)))\n",
    "    g_matches.add((Match, CNS['player_of_the_match'], Literal(row['player_of_the_match'], datatype=XSD.string)))\n",
    "    g_matches.add((Match, CNS['umpire1'], Literal(row['match_umpire1'], datatype=XSD.string)))\n",
    "    g_matches.add((Match, CNS['umpire2'], Literal(row['match_umpire2'], datatype=XSD.string)))\n",
    "    g_matches.add((Match, CNS['first_inning_score'], Literal(row['first_inning_score'], datatype=XSD.int)))\n",
    "    g_matches.add((Match, CNS['second_inning_score'], Literal(row['second_inning_score'], datatype=XSD.int)))\n",
    "    g_matches.add((Match, CNS['match_winner'], Literal(row['match_winner'], datatype=XSD.string)))\n",
    "    g_matches.add((Match, CNS['winner_runs'], Literal(row['winner_runs'], datatype=XSD.int)))\n",
    "    g_matches.add((Match, CNS['match_type'], Literal(row['match_type'], datatype=XSD.string)))\n",
    "    g_matches.add((Match, CNS['winner_wickets'], Literal(row['winner_wickets'], datatype=XSD.int)))\n",
    "    g_matches.add((Match, CNS['team1'], Literal(row['team1'], datatype=XSD.string)))\n",
    "    g_matches.add((Match, CNS['team2'], Literal(row['team2'], datatype=XSD.string)))        \n",
    "    g_matches.add((Match, CNS['date'], Literal(row['match_date'], datatype=XSD.string)))\n",
    "  "
   ]
  },
  {
   "cell_type": "code",
   "execution_count": 164,
   "id": "82ee7ec8",
   "metadata": {},
   "outputs": [],
   "source": [
    "# Save matches to TTL file\n",
    "with open(save_path + 'matches.ttl', 'w') as file:\n",
    "    file.write(g_matches.serialize(format='turtle'))\n",
    "\n",
    "# Create a new graph for Deliveries\n",
    "g_deliveries = Graph()\n",
    "g_deliveries.bind(\"foaf\", FOAF)\n",
    "g_deliveries.bind(\"xsd\", XSD)\n",
    "g_deliveries.bind(\"cricket\", CNS)"
   ]
  },
  {
   "cell_type": "code",
   "execution_count": 165,
   "id": "f253448e",
   "metadata": {},
   "outputs": [],
   "source": [
    "# Deliveries\n",
    "for index, row in deliveries.iterrows():\n",
    "    Deliveries = URIRef(CNS['Deliveries' + str(index)])\n",
    "    g_deliveries.add((Deliveries, RDF.type, CNS.Deliveries))\n",
    "\n",
    "    batsman = URIRef(CNS['Player_' + row['striker_name'].replace(' ', '_')])\n",
    "    bowler = URIRef(CNS['Player_' + row['bowler_name'].replace(' ', '_')])\n",
    "    match = URIRef(CNS['Match_' + str(row['match_id'])])\n",
    "\n",
    "    g_deliveries.add((Deliveries, CNS['match'], match))\n",
    "    g_deliveries.add((Deliveries, CNS['batsman'], batsman))\n",
    "    g_deliveries.add((Deliveries, CNS['bowler'], bowler))\n",
    "    g_deliveries.add((Deliveries, CNS['inning'], Literal(row['innings'], datatype=XSD.int)))\n",
    "    g_deliveries.add((Deliveries, CNS['runs'], Literal(row['runs_off_bat'], datatype=XSD.int)))\n",
    "    g_deliveries.add((Deliveries, CNS['player_dismissed'], Literal(row['player_dismissed'], datatype=XSD.string)))\n",
    "    g_deliveries.add((Deliveries, CNS['wicket_type'], Literal(row['wicket_type'], datatype=XSD.string)))\n"
   ]
  },
  {
   "cell_type": "code",
   "execution_count": 166,
   "id": "d59244a1",
   "metadata": {},
   "outputs": [],
   "source": [
    "# Save Deliveries to TTL file\n",
    "with open(save_path + 'deliveries.ttl', 'w') as file:\n",
    "    file.write(g_deliveries.serialize(format='turtle'))\n",
    "\n",
    "# Create a new graph for points table\n",
    "g_points_table = Graph()\n",
    "g_points_table.bind(\"foaf\", FOAF)\n",
    "g_points_table.bind(\"xsd\", XSD)\n",
    "g_points_table.bind(\"cricket\", CNS)"
   ]
  },
  {
   "cell_type": "code",
   "execution_count": 167,
   "id": "77ecd83c",
   "metadata": {},
   "outputs": [],
   "source": [
    "\n",
    "# Points Table\n",
    "for index, row in points_table.iterrows():\n",
    "   \n",
    "    Team = URIRef(CNS['Team_' + row['team'].replace(' ', '_')])    \n",
    "    g_points_table.add((Team, RDF.type, CNS.Team))\n",
    "    g_points_table.add((Team, CNS['team_name'], Literal(row['team'], datatype=XSD.string)))\n",
    "    g_points_table.add((Team, CNS['team_points'], Literal(row['team_points'], datatype=XSD.int)))\n",
    "    g_points_table.add((Team, CNS['matches_played'], Literal(row['matches_played'], datatype=XSD.int)))\n",
    "    g_points_table.add((Team, CNS['matches_won'], Literal(row['matches_won'], datatype=XSD.int)))\n",
    "    g_points_table.add((Team, CNS['matches_lost'], Literal(row['matches_lost'], datatype=XSD.int)))\n",
    "    g_points_table.add((Team, CNS['team_ranking'], Literal(row['team_ranking'], datatype=XSD.int)))\n",
    "    g_points_table.add((Team, CNS['no_result'], Literal(row['no_result'], datatype=XSD.int)))\n",
    "    g_points_table.add((Team, CNS['team_net_run_rate'], Literal(row['team_net_run_rate'], datatype=XSD.double)))\n",
    "\n",
    "\n",
    "# Save points table to TTL file\n",
    "with open(save_path + 'points_table.ttl', 'w') as file:\n",
    "    file.write(g_points_table.serialize(format='turtle'))"
   ]
  },
  {
   "cell_type": "code",
   "execution_count": null,
   "id": "e36a8619",
   "metadata": {},
   "outputs": [],
   "source": []
  },
  {
   "cell_type": "code",
   "execution_count": null,
   "id": "c8416fdd",
   "metadata": {},
   "outputs": [],
   "source": []
  }
 ],
 "metadata": {
  "kernelspec": {
   "display_name": "Python 3 (ipykernel)",
   "language": "python",
   "name": "python3"
  },
  "language_info": {
   "codemirror_mode": {
    "name": "ipython",
    "version": 3
   },
   "file_extension": ".py",
   "mimetype": "text/x-python",
   "name": "python",
   "nbconvert_exporter": "python",
   "pygments_lexer": "ipython3",
   "version": "3.9.13"
  }
 },
 "nbformat": 4,
 "nbformat_minor": 5
}
